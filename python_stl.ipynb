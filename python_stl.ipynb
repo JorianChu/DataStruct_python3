{
 "cells": [
  {
   "cell_type": "code",
   "execution_count": 21,
   "metadata": {},
   "outputs": [
    {
     "name": "stdout",
     "output_type": "stream",
     "text": [
      "[4, 9, 19, 11, 10]\n",
      "[1, 9, 4, 11, 10, 19]\n",
      "1\n",
      "[4, 9, 19, 11, 10]\n",
      "4\n",
      "[0, 9, 19, 11, 10]\n",
      "all       : [0, 9, 19, 11, 10]\n",
      "3 largest : [19, 11, 10]\n",
      "from sort : [19, 11, 10]\n",
      "3 smallest: [0, 9, 10]\n",
      "from sort : [0, 9, 10]\n",
      "[('e', 5), ('d', 4)]\n",
      "[10, 18, 17, 33, 38, 58, 71, 88, 91, 95]\n"
     ]
    }
   ],
   "source": [
    "#  heap\n",
    "import heapq\n",
    "\n",
    "# support minimum heap \n",
    "data = [19, 9, 4, 11, 10]\n",
    "\n",
    "# create heap\n",
    "heapq.heapify(data)\n",
    "print(data)\n",
    "\n",
    "# insert element, reconstruct heap automatically\n",
    "heapq.heappush(data, 1)\n",
    "print(data)\n",
    "\n",
    "# pop minimum value, delete it  \n",
    "minimum = heapq.heappop(data)\n",
    "print(minimum)\n",
    "print(data)\n",
    "\n",
    "# pop and return minimum value, replace it with item\n",
    "smallest = heapq.heapreplace(data, 0)\n",
    "print(smallest)\n",
    "print(data)\n",
    "\n",
    "# acquire nsmallest data, nlargest data !!! It's great when `n` is small,or just use sorted(n is large) \n",
    "# n=1, use min or max\n",
    "print('all       :', data)\n",
    "print('3 largest :', heapq.nlargest(3, data))\n",
    "print('from sort :', list(reversed(sorted(data)[-3:])))\n",
    "print('3 smallest:', heapq.nsmallest(3, data))\n",
    "print('from sort :', sorted(data)[:3])\n",
    "\n",
    "b = [('a',2),('b',1),('c',3),('d',4),('e',5)]\n",
    "print(heapq.nlargest(2,b,key=lambda x:x[1]))\n",
    "\n",
    "\n",
    "# merge multiple sorted list\n",
    "data1 = [33, 58, 71, 88, 95]    \n",
    "data2 = [10, 18, 17, 38, 91]\n",
    "data3 = list(heapq.merge(data1,data2))\n",
    "print(data3)\n",
    "\n"
   ]
  },
  {
   "cell_type": "code",
   "execution_count": null,
   "metadata": {},
   "outputs": [],
   "source": []
  },
  {
   "cell_type": "code",
   "execution_count": null,
   "metadata": {},
   "outputs": [],
   "source": []
  }
 ],
 "metadata": {
  "kernelspec": {
   "display_name": "Python 3",
   "language": "python",
   "name": "python3"
  },
  "language_info": {
   "codemirror_mode": {
    "name": "ipython",
    "version": 3
   },
   "file_extension": ".py",
   "mimetype": "text/x-python",
   "name": "python",
   "nbconvert_exporter": "python",
   "pygments_lexer": "ipython3",
   "version": "3.7.6"
  }
 },
 "nbformat": 4,
 "nbformat_minor": 4
}
